{
  "nbformat": 4,
  "nbformat_minor": 0,
  "metadata": {
    "colab": {
      "name": "Practicum - project 6.ipynb",
      "provenance": [],
      "collapsed_sections": [],
      "authorship_tag": "ABX9TyM/dOeMcN3nU2GkZPNivYAD",
      "include_colab_link": true
    },
    "kernelspec": {
      "name": "python3",
      "display_name": "Python 3"
    }
  },
  "cells": [
    {
      "cell_type": "markdown",
      "metadata": {
        "id": "view-in-github",
        "colab_type": "text"
      },
      "source": [
        "<a href=\"https://colab.research.google.com/github/dnevo/Practicum---project-6/blob/master/Practicum_project_6.ipynb\" target=\"_parent\"><img src=\"https://colab.research.google.com/assets/colab-badge.svg\" alt=\"Open In Colab\"/></a>"
      ]
    },
    {
      "cell_type": "code",
      "metadata": {
        "id": "Uzel4JNwDMmC",
        "colab_type": "code",
        "outputId": "d7df38a2-7e0a-41de-d9bb-53de226825de",
        "colab": {
          "base_uri": "https://localhost:8080/",
          "height": 51
        }
      },
      "source": [
        "# following lines are specific to Google Colab\n",
        "#%load_ext google.colab.data_table\n",
        "from google.colab import drive\n",
        "drive.mount('/content/drive')\n",
        "%cd '/content/drive/My Drive/Colab Notebooks/Practicum Yandex - Project 6'"
      ],
      "execution_count": 0,
      "outputs": [
        {
          "output_type": "stream",
          "text": [
            "Drive already mounted at /content/drive; to attempt to forcibly remount, call drive.mount(\"/content/drive\", force_remount=True).\n",
            "/content/drive/My Drive/Colab Notebooks/Practicum Yandex - Project 6\n"
          ],
          "name": "stdout"
        }
      ]
    },
    {
      "cell_type": "code",
      "metadata": {
        "id": "rVHRrAXWux5k",
        "colab_type": "code",
        "colab": {}
      },
      "source": [
        "import pandas as pd\n",
        "import numpy as np\n",
        "from sklearn.model_selection import train_test_split\n",
        "from sklearn.ensemble import RandomForestClassifier\n",
        "from sklearn.linear_model import LogisticRegression\n",
        "from sklearn.metrics import accuracy_score\n",
        "from sklearn.tree import DecisionTreeClassifier\n",
        "pd.set_option('display.width', 200)\n",
        "pd.set_option('display.max_columns', None)\n",
        "pd.options.display.float_format = '{:11,.2f}'.format"
      ],
      "execution_count": 0,
      "outputs": []
    },
    {
      "cell_type": "code",
      "metadata": {
        "id": "dX3ULADDPENZ",
        "colab_type": "code",
        "outputId": "37cfd46b-12a2-410c-e829-9fd2e1f23b17",
        "colab": {
          "base_uri": "https://localhost:8080/",
          "height": 204
        }
      },
      "source": [
        "df = pd.read_csv('datasets/users_behavior.csv',index_col=0)\n",
        "df.head()"
      ],
      "execution_count": 0,
      "outputs": [
        {
          "output_type": "execute_result",
          "data": {
            "text/html": [
              "<div>\n",
              "<style scoped>\n",
              "    .dataframe tbody tr th:only-of-type {\n",
              "        vertical-align: middle;\n",
              "    }\n",
              "\n",
              "    .dataframe tbody tr th {\n",
              "        vertical-align: top;\n",
              "    }\n",
              "\n",
              "    .dataframe thead th {\n",
              "        text-align: right;\n",
              "    }\n",
              "</style>\n",
              "<table border=\"1\" class=\"dataframe\">\n",
              "  <thead>\n",
              "    <tr style=\"text-align: right;\">\n",
              "      <th></th>\n",
              "      <th>calls</th>\n",
              "      <th>minutes</th>\n",
              "      <th>messages</th>\n",
              "      <th>mb_used</th>\n",
              "      <th>is_ultra</th>\n",
              "    </tr>\n",
              "  </thead>\n",
              "  <tbody>\n",
              "    <tr>\n",
              "      <th>0</th>\n",
              "      <td>40.00</td>\n",
              "      <td>311.90</td>\n",
              "      <td>83.00</td>\n",
              "      <td>19,915.42</td>\n",
              "      <td>0</td>\n",
              "    </tr>\n",
              "    <tr>\n",
              "      <th>1</th>\n",
              "      <td>85.00</td>\n",
              "      <td>516.75</td>\n",
              "      <td>56.00</td>\n",
              "      <td>22,696.96</td>\n",
              "      <td>0</td>\n",
              "    </tr>\n",
              "    <tr>\n",
              "      <th>2</th>\n",
              "      <td>77.00</td>\n",
              "      <td>467.66</td>\n",
              "      <td>86.00</td>\n",
              "      <td>21,060.45</td>\n",
              "      <td>0</td>\n",
              "    </tr>\n",
              "    <tr>\n",
              "      <th>3</th>\n",
              "      <td>106.00</td>\n",
              "      <td>745.53</td>\n",
              "      <td>81.00</td>\n",
              "      <td>8,437.39</td>\n",
              "      <td>1</td>\n",
              "    </tr>\n",
              "    <tr>\n",
              "      <th>4</th>\n",
              "      <td>66.00</td>\n",
              "      <td>418.74</td>\n",
              "      <td>1.00</td>\n",
              "      <td>14,502.75</td>\n",
              "      <td>0</td>\n",
              "    </tr>\n",
              "  </tbody>\n",
              "</table>\n",
              "</div>"
            ],
            "text/plain": [
              "        calls     minutes    messages     mb_used  is_ultra\n",
              "0       40.00      311.90       83.00   19,915.42         0\n",
              "1       85.00      516.75       56.00   22,696.96         0\n",
              "2       77.00      467.66       86.00   21,060.45         0\n",
              "3      106.00      745.53       81.00    8,437.39         1\n",
              "4       66.00      418.74        1.00   14,502.75         0"
            ]
          },
          "metadata": {
            "tags": []
          },
          "execution_count": 17
        }
      ]
    },
    {
      "cell_type": "markdown",
      "metadata": {
        "id": "HK9BIMcLjP-k",
        "colab_type": "text"
      },
      "source": [
        "The dataset is splitted into 3 groups according to the common practice: train 60%, Validation 20%, test 20%.\n",
        "\n",
        "Since the train_test_split method is designed to split into only 2 groups, we are calling it twice in order to split to three."
      ]
    },
    {
      "cell_type": "code",
      "metadata": {
        "id": "0Rq-lk7JP6nc",
        "colab_type": "code",
        "colab": {}
      },
      "source": [
        "df_train, df_temp = train_test_split(df, test_size=0.4, random_state=12345)\n",
        "df_valid, df_test = train_test_split(df_temp, test_size=0.5, random_state=12345)\n",
        "\n",
        "features_train = df_train.drop(['is_ultra'], axis=1)\n",
        "target_train = df_train['is_ultra']\n",
        "features_valid = df_valid.drop(['is_ultra'], axis=1)\n",
        "target_valid = df_valid['is_ultra']\n",
        "features_test = df_test.drop(['is_ultra'], axis=1)\n",
        "target_test = df_test['is_ultra']"
      ],
      "execution_count": 0,
      "outputs": []
    },
    {
      "cell_type": "markdown",
      "metadata": {
        "id": "2-rU71TbcO6Q",
        "colab_type": "text"
      },
      "source": [
        "Random Forest: best result with n_estimator = 18 (0.793)"
      ]
    },
    {
      "cell_type": "code",
      "metadata": {
        "id": "AEb6p780j21q",
        "colab_type": "code",
        "outputId": "b17a3f6b-eeed-46cd-92db-50c6f17c2544",
        "colab": {
          "base_uri": "https://localhost:8080/",
          "height": 340
        }
      },
      "source": [
        "for n_estim in range(1,20):\n",
        "    model = RandomForestClassifier(random_state=12345, n_estimators=n_estim)\n",
        "    model.fit(features_train, target_train)\n",
        "    predictions_valid = model.predict(features_valid)\n",
        "    print(\"RandomForest n_estimator =\", n_estim, \": \", end='')\n",
        "    print(accuracy_score(target_valid, predictions_valid))"
      ],
      "execution_count": 0,
      "outputs": [
        {
          "output_type": "stream",
          "text": [
            "RandomForest n_estimator = 1 : 0.7107309486780715\n",
            "RandomForest n_estimator = 2 : 0.7636080870917574\n",
            "RandomForest n_estimator = 3 : 0.7387247278382582\n",
            "RandomForest n_estimator = 4 : 0.7713841368584758\n",
            "RandomForest n_estimator = 5 : 0.749611197511664\n",
            "RandomForest n_estimator = 6 : 0.7807153965785381\n",
            "RandomForest n_estimator = 7 : 0.7682737169517885\n",
            "RandomForest n_estimator = 8 : 0.7822706065318819\n",
            "RandomForest n_estimator = 9 : 0.7729393468118196\n",
            "RandomForest n_estimator = 10 : 0.7853810264385692\n",
            "RandomForest n_estimator = 11 : 0.7838258164852255\n",
            "RandomForest n_estimator = 12 : 0.7869362363919129\n",
            "RandomForest n_estimator = 13 : 0.7822706065318819\n",
            "RandomForest n_estimator = 14 : 0.7838258164852255\n",
            "RandomForest n_estimator = 15 : 0.7838258164852255\n",
            "RandomForest n_estimator = 16 : 0.7869362363919129\n",
            "RandomForest n_estimator = 17 : 0.7869362363919129\n",
            "RandomForest n_estimator = 18 : 0.7931570762052877\n",
            "RandomForest n_estimator = 19 : 0.7884914463452566\n"
          ],
          "name": "stdout"
        }
      ]
    },
    {
      "cell_type": "markdown",
      "metadata": {
        "id": "D_BZ9yzYbrQ7",
        "colab_type": "text"
      },
      "source": [
        "Logistic Regression: accuracy on validation set: 0.711"
      ]
    },
    {
      "cell_type": "code",
      "metadata": {
        "id": "AQGZ1XRpFchO",
        "colab_type": "code",
        "outputId": "9340d060-fec6-431c-f332-8313e8206036",
        "colab": {
          "base_uri": "https://localhost:8080/",
          "height": 34
        }
      },
      "source": [
        "model = LogisticRegression(random_state=12345)\n",
        "model.fit(features_train, target_train)\n",
        "predictions_valid = model.predict(features_valid)\n",
        "print(\"LogisticRegression:\", accuracy_score(target_valid, predictions_valid))"
      ],
      "execution_count": 0,
      "outputs": [
        {
          "output_type": "stream",
          "text": [
            "LogisticRegression: 0.7107309486780715\n"
          ],
          "name": "stdout"
        }
      ]
    },
    {
      "cell_type": "markdown",
      "metadata": {
        "id": "l_ldhsPTbrTk",
        "colab_type": "text"
      },
      "source": [
        "Decision Tree: best result is with max_depth = 3 (0.785)"
      ]
    },
    {
      "cell_type": "code",
      "metadata": {
        "id": "r285ji0HF8mn",
        "colab_type": "code",
        "outputId": "cd043c57-0d44-49c2-9201-79257729ab1f",
        "colab": {
          "base_uri": "https://localhost:8080/",
          "height": 102
        }
      },
      "source": [
        "for depth in range(1,6):\n",
        "    model = DecisionTreeClassifier(random_state=12345, max_depth=depth)\n",
        "    model.fit(features_train, target_train)\n",
        "    predictions_valid = model.predict(features_valid)\n",
        "    print(\"DecisionTree max_depth =\", depth, \": \", end='')\n",
        "    print(accuracy_score(target_valid, predictions_valid))"
      ],
      "execution_count": 0,
      "outputs": [
        {
          "output_type": "stream",
          "text": [
            "DecisionTree max_depth = 1 : 0.7542768273716952\n",
            "DecisionTree max_depth = 2 : 0.7822706065318819\n",
            "DecisionTree max_depth = 3 : 0.7853810264385692\n",
            "DecisionTree max_depth = 4 : 0.7791601866251944\n",
            "DecisionTree max_depth = 5 : 0.7791601866251944\n"
          ],
          "name": "stdout"
        }
      ]
    },
    {
      "cell_type": "markdown",
      "metadata": {
        "id": "VjigMtaKjP7q",
        "colab_type": "text"
      },
      "source": [
        "Summary of above: we have made a comparison of 3 models: Random Forest, Logistic Regression and Decision Tree. As from the results, Random Forest (with accuracy _estimator = 18) provides best accuracy: 79.3%"
      ]
    },
    {
      "cell_type": "code",
      "metadata": {
        "id": "okPd1JAvchpf",
        "colab_type": "code",
        "outputId": "40f0a087-137b-4b7a-d554-6952574dc0d0",
        "colab": {
          "base_uri": "https://localhost:8080/",
          "height": 34
        }
      },
      "source": [
        "model = RandomForestClassifier(random_state=12345, n_estimators=18)\n",
        "model.fit(features_train, target_train)\n",
        "predictions_valid = model.predict(features_valid)\n",
        "print(accuracy_score(target_valid, predictions_valid))"
      ],
      "execution_count": 0,
      "outputs": [
        {
          "output_type": "stream",
          "text": [
            "0.7931570762052877\n"
          ],
          "name": "stdout"
        }
      ]
    },
    {
      "cell_type": "markdown",
      "metadata": {
        "id": "qKGaw56I7Sf9",
        "colab_type": "text"
      },
      "source": [
        "The last step, is checking accuracy on the test set. The accuracy remains similar 78.5% - which is above the target of 75% that we have set."
      ]
    },
    {
      "cell_type": "code",
      "metadata": {
        "id": "JOCjHPykchoM",
        "colab_type": "code",
        "outputId": "e3e677c2-4b80-4442-cc5e-f55b48099b58",
        "colab": {
          "base_uri": "https://localhost:8080/",
          "height": 34
        }
      },
      "source": [
        "predictions_test = model.predict(features_test)\n",
        "print(accuracy_score(target_test, predictions_test))"
      ],
      "execution_count": 0,
      "outputs": [
        {
          "output_type": "stream",
          "text": [
            "0.7853810264385692\n"
          ],
          "name": "stdout"
        }
      ]
    },
    {
      "cell_type": "code",
      "metadata": {
        "id": "jb0xyWorF8lb",
        "colab_type": "code",
        "colab": {}
      },
      "source": [
        "joblib.dump(model, 'model.joblib')\n",
        "model = joblib.load('model.joblib')"
      ],
      "execution_count": 0,
      "outputs": []
    }
  ]
}