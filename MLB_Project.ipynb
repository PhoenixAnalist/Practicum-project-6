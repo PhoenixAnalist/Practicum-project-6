{
  "nbformat": 4,
  "nbformat_minor": 0,
  "metadata": {
    "colab": {
      "name": "MLB Project.ipynb",
      "provenance": [],
      "collapsed_sections": [],
      "authorship_tag": "ABX9TyOO+1MD3fcVr24hX2WIMVOc",
      "include_colab_link": true
    },
    "kernelspec": {
      "name": "python3",
      "display_name": "Python 3"
    }
  },
  "cells": [
    {
      "cell_type": "markdown",
      "metadata": {
        "id": "view-in-github",
        "colab_type": "text"
      },
      "source": [
        "<a href=\"https://colab.research.google.com/github/dnevo/Practicum---project-6/blob/master/MLB_Project.ipynb\" target=\"_parent\"><img src=\"https://colab.research.google.com/assets/colab-badge.svg\" alt=\"Open In Colab\"/></a>"
      ]
    },
    {
      "cell_type": "code",
      "metadata": {
        "id": "VXrLatj6knX1",
        "colab_type": "code",
        "colab": {}
      },
      "source": [
        "import pandas as pd\n",
        "import numpy as np\n",
        "import matplotlib.pyplot as plt\n",
        "from sklearn.model_selection import train_test_split\n",
        "from sklearn.linear_model import LinearRegression\n",
        "from sklearn.metrics import mean_squared_error"
      ],
      "execution_count": 0,
      "outputs": []
    },
    {
      "cell_type": "code",
      "metadata": {
        "id": "dfS20Kty96sk",
        "colab_type": "code",
        "colab": {}
      },
      "source": [
        "data = []\n",
        "for i in range(3):\n",
        "  data.append(pd.read_csv(\n",
        "      'https://raw.githubusercontent.com/dnevo/Practicum-Machine-Learning-for-Business/master/geo_data_' + str(i) + '.csv'\n",
        "      ,index_col=0))"
      ],
      "execution_count": 0,
      "outputs": []
    },
    {
      "cell_type": "code",
      "metadata": {
        "id": "-N0TIRTw-E-7",
        "colab_type": "code",
        "outputId": "5676f368-0bc6-4ed0-c436-84385fae1078",
        "colab": {
          "base_uri": "https://localhost:8080/",
          "height": 578
        }
      },
      "source": [
        "for i in range(3):\n",
        "  print(f'\\n#### data{i} ####')\n",
        "  print(data[i].describe())"
      ],
      "execution_count": 3,
      "outputs": [
        {
          "output_type": "stream",
          "text": [
            "\n",
            "#### data0 ####\n",
            "                  f0             f1             f2        product\n",
            "count  100000.000000  100000.000000  100000.000000  100000.000000\n",
            "mean        0.500419       0.250143       2.502647      92.500000\n",
            "std         0.871832       0.504433       3.248248      44.288691\n",
            "min        -1.408605      -0.848218     -12.088328       0.000000\n",
            "25%        -0.072580      -0.200881       0.287748      56.497507\n",
            "50%         0.502360       0.250252       2.515969      91.849972\n",
            "75%         1.073581       0.700646       4.715088     128.564089\n",
            "max         2.362331       1.343769      16.003790     185.364347\n",
            "\n",
            "#### data1 ####\n",
            "                  f0             f1             f2        product\n",
            "count  100000.000000  100000.000000  100000.000000  100000.000000\n",
            "mean        1.141296      -4.796579       2.494541      68.825000\n",
            "std         8.965932       5.119872       1.703572      45.944423\n",
            "min       -31.609576     -26.358598      -0.018144       0.000000\n",
            "25%        -6.298551      -8.267985       1.000021      26.953261\n",
            "50%         1.153055      -4.813172       2.011479      57.085625\n",
            "75%         8.621015      -1.332816       3.999904     107.813044\n",
            "max        29.421755      18.734063       5.019721     137.945408\n",
            "\n",
            "#### data2 ####\n",
            "                  f0             f1             f2        product\n",
            "count  100000.000000  100000.000000  100000.000000  100000.000000\n",
            "mean        0.002023      -0.002081       2.495128      95.000000\n",
            "std         1.732045       1.730417       3.473445      44.749921\n",
            "min        -8.760004      -7.084020     -11.970335       0.000000\n",
            "25%        -1.162288      -1.174820       0.130359      59.450441\n",
            "50%         0.009424      -0.009482       2.484236      94.925613\n",
            "75%         1.158535       1.163678       4.858794     130.595027\n",
            "max         7.238262       7.844801      16.739402     190.029838\n"
          ],
          "name": "stdout"
        }
      ]
    },
    {
      "cell_type": "code",
      "metadata": {
        "id": "QrDJk1R6-_PL",
        "colab_type": "code",
        "outputId": "e561baa3-4ffe-4934-83d6-544410df7c82",
        "colab": {
          "base_uri": "https://localhost:8080/",
          "height": 211
        }
      },
      "source": [
        "plt.figure(figsize=(9, 3))\n",
        "plt.boxplot([data[0]['product'], data[1]['product'], data[2]['product']], vert=False)\n",
        "plt.show()"
      ],
      "execution_count": 4,
      "outputs": [
        {
          "output_type": "display_data",
          "data": {
            "image/png": "[encoded data removed]",
            "text/plain": [
              "<Figure size 648x216 with 1 Axes>"
            ]
          },
          "metadata": {
            "tags": [],
            "needs_background": "light"
          }
        }
      ]
    },
    {
      "cell_type": "code",
      "metadata": {
        "id": "i9-kS7ibGHWJ",
        "colab_type": "code",
        "outputId": "997b7244-fb1c-4c4b-db89-4357d4565758",
        "colab": {
          "base_uri": "https://localhost:8080/",
          "height": 153
        }
      },
      "source": [
        "d = data[1].head(10000)\n",
        "target = d['product']\n",
        "features = d.drop('product', axis=1)\n",
        "model = LinearRegression()\n",
        "model.fit(features, target)\n",
        "predicted = model.predict(features)\n",
        "print(mean_squared_error(target, predicted, squared=False))\n",
        "\n",
        "p = pd.Series(predicted)\n",
        "t = target.reset_index(drop=True)\n",
        "aa=pd.concat([p, t, (p-t)],axis=1)\n",
        "aa.columns = ['p','t','p-t']\n",
        "print(aa.head())\n",
        "print(aa['p-t'].sum()/len(aa))"
      ],
      "execution_count": 15,
      "outputs": [
        {
          "output_type": "stream",
          "text": [
            "0.880335238658402\n",
            "            p           t       p-t\n",
            "0    3.861430    3.179103  0.682328\n",
            "1   26.598774   26.953261 -0.354487\n",
            "2  135.675020  134.766305  0.908715\n",
            "3  138.558813  137.945408  0.613406\n",
            "4  134.880887  134.766305  0.114582\n",
            "-2.0257573396520456e-14\n"
          ],
          "name": "stdout"
        }
      ]
    },
    {
      "cell_type": "code",
      "metadata": {
        "id": "1d9VS-fNsu5V",
        "colab_type": "code",
        "outputId": "517868d6-8fb4-4feb-f26b-dea1582e930e",
        "colab": {
          "base_uri": "https://localhost:8080/",
          "height": 272
        }
      },
      "source": [
        "state = np.random.RandomState(12345)\n",
        "for i in range(3):\n",
        "  target = data[i]['product']\n",
        "  features = data[i].drop('product', axis=1)\n",
        "  features_train, features_valid, target_train, target_valid = train_test_split(\n",
        "      features, target, test_size=0.25, random_state=state)\n",
        "  model = LinearRegression()\n",
        "  model.fit(features_train, target_train)\n",
        "  predicted_valid = model.predict(features_valid)\n",
        "  print(f'\\n#### Region{i} ####')\n",
        "  print('RMSE:', mean_squared_error(target_valid, predicted_valid, squared=False))\n",
        "  print('mean target_valid:', target_valid.mean())\n",
        "  print('mean predicted_valid:', predicted_valid.mean())\n"
      ],
      "execution_count": 12,
      "outputs": [
        {
          "output_type": "stream",
          "text": [
            "\n",
            "#### Region0 ####\n",
            "RMSE: 37.5794217150813\n",
            "mean target_valid: 92.07859674082941\n",
            "mean predicted_valid: 92.59256778438038\n",
            "\n",
            "#### Region1 ####\n",
            "RMSE: 0.889736773768064\n",
            "mean target_valid: 68.77162424986196\n",
            "mean predicted_valid: 68.76995145799754\n",
            "\n",
            "#### Region2 ####\n",
            "RMSE: 39.958042459521614\n",
            "mean target_valid: 94.74895871720257\n",
            "mean predicted_valid: 95.087528122523\n"
          ],
          "name": "stdout"
        }
      ]
    },
    {
      "cell_type": "markdown",
      "metadata": {
        "id": "h7OZxJPg8Mgz",
        "colab_type": "text"
      },
      "source": [
        "As Above Region 1 is quite different from the 2 other regions:\n",
        "1. On one hand, average Region 1 field reserve is 68.8 - 27% less than  others\n",
        "2. On the other hand, data from region 1 provide satisfacting predictions (RMSE = 0.9), while the other 2 have a very biased model (RMSE ~ 39).\n",
        "\n",
        "In other words: Region 1 provides less profit, but with less risks..."
      ]
    },
    {
      "cell_type": "code",
      "metadata": {
        "id": "Ej2xQptZs4b8",
        "colab_type": "code",
        "outputId": "e58f29b6-7333-4ed8-f7ce-293dc211d730",
        "colab": {
          "base_uri": "https://localhost:8080/",
          "height": 221
        }
      },
      "source": [
        "N_SAMPLES = 1000\n",
        "SAMPLE_SIZE = 500\n",
        "state = np.random.RandomState(12345)\n",
        "for i in range(3):\n",
        "  reserve_volume = []\n",
        "  rmse = []\n",
        "  for j in range(N_SAMPLES):\n",
        "    subsample = data[i].sample(n=SAMPLE_SIZE, replace=False, random_state=state)\n",
        "    target = subsample['product']\n",
        "    features = subsample.drop('product', axis=1)\n",
        "    features_train, features_valid, target_train, target_valid = train_test_split(\n",
        "        features, target, test_size=0.25, random_state=state)\n",
        "    model = LinearRegression()\n",
        "    model.fit(features_train, target_train)\n",
        "    predicted_valid = model.predict(features_valid)\n",
        "    rmse.append(mean_squared_error(target_valid, predicted_valid, squared=False))\n",
        "    reserve_volume.append(target.mean())\n",
        "  print(f'\\n#### Region{i} ####')\n",
        "  print('Avg. RMSE:', pd.Series(rmse).mean())\n",
        "  print('Avg. reserve_volume:', pd.Series(reserve_volume).mean())\n"
      ],
      "execution_count": 0,
      "outputs": [
        {
          "output_type": "stream",
          "text": [
            "\n",
            "#### Region0 ####\n",
            "Avg. RMSE: 37.75895043349853\n",
            "Avg. reserve_volume: 92.44070772837819\n",
            "\n",
            "#### Region1 ####\n",
            "Avg. RMSE: 0.8934139232638153\n",
            "Avg. reserve_volume: 68.91706515214761\n",
            "\n",
            "#### Region2 ####\n",
            "Avg. RMSE: 40.205403397442\n",
            "Avg. reserve_volume: 94.93218213276263\n"
          ],
          "name": "stdout"
        }
      ]
    },
    {
      "cell_type": "code",
      "metadata": {
        "id": "NisfqijI2I_P",
        "colab_type": "code",
        "colab": {}
      },
      "source": [
        ""
      ],
      "execution_count": 0,
      "outputs": []
    },
    {
      "cell_type": "code",
      "metadata": {
        "id": "mtEe1sKR2K7M",
        "colab_type": "code",
        "colab": {}
      },
      "source": [
        ""
      ],
      "execution_count": 0,
      "outputs": []
    },
    {
      "cell_type": "code",
      "metadata": {
        "id": "MJXTIhIh-1Bp",
        "colab_type": "code",
        "colab": {}
      },
      "source": [
        ""
      ],
      "execution_count": 0,
      "outputs": []
    }
  ]
}